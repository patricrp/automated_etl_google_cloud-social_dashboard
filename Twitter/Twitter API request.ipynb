{
 "cells": [
  {
   "cell_type": "code",
   "execution_count": 1,
   "metadata": {},
   "outputs": [],
   "source": [
    "import requests\n",
    "import os\n",
    "from dotenv import load_dotenv"
   ]
  },
  {
   "cell_type": "markdown",
   "metadata": {},
   "source": [
    "\n",
    "Documentation: \n",
    "\n",
    "* Standard Search API: https://developer.twitter.com/en/docs/tweets/search/api-reference/get-search-tweets\n",
    "* Authentication\n",
    "\n",
    "- Standard search API only serves data from the last week\n",
    "- Limit your searches to 10 keywords and operators.\n",
    "- Queries can be limited due to complexity. If this happens, the Search API will respond with the error: {\"error\":\"Sorry, your query is too complex. Please reduce complexity and try again.\"}.\n",
    "\n",
    "1. Create an app\n",
    "2. Create a dev environment\n",
    "\n",
    "Pricing: https://developer.twitter.com/en/pricing/search-30day"
   ]
  },
  {
   "cell_type": "code",
   "execution_count": null,
   "metadata": {},
   "outputs": [],
   "source": []
  }
 ],
 "metadata": {
  "kernelspec": {
   "display_name": "Python3.8",
   "language": "python",
   "name": "python3.8"
  },
  "language_info": {
   "codemirror_mode": {
    "name": "ipython",
    "version": 3
   },
   "file_extension": ".py",
   "mimetype": "text/x-python",
   "name": "python",
   "nbconvert_exporter": "python",
   "pygments_lexer": "ipython3",
   "version": "3.8.0"
  }
 },
 "nbformat": 4,
 "nbformat_minor": 4
}
