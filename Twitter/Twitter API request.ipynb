{
 "cells": [
  {
   "cell_type": "markdown",
   "metadata": {},
   "source": [
    "\n",
    "Documentation: \n",
    "\n",
    "* Standard Search API: https://developer.twitter.com/en/docs/tweets/search/api-reference/get-search-tweets\n",
    "\n",
    "- Standard search API only serves data from the last week\n",
    "- Limit your searches to 10 keywords and operators.\n",
    "- Queries can be limited due to complexity. If this happens, the Search API will respond with the error: {\"error\":\"Sorry, your query is too complex. Please reduce complexity and try again.\"}.\n",
    "\n",
    "1. Create an app\n",
    "2. Create a dev environment\n",
    "\n",
    "Pricing: https://developer.twitter.com/en/pricing/search-30day\n",
    "\n",
    "Note: consumer_key == API_key == APP_key\n",
    "Note: consumer_secret == API_secret == APP_secret"
   ]
  },
  {
   "cell_type": "code",
   "execution_count": 2,
   "metadata": {},
   "outputs": [],
   "source": [
    "import tweepy\n",
    "import json\n",
    "import os\n",
    "from dotenv import load_dotenv"
   ]
  },
  {
   "cell_type": "code",
   "execution_count": 4,
   "metadata": {},
   "outputs": [],
   "source": [
    "load_dotenv()\n",
    "consumer_key = os.getenv(\"API_KEY\")\n",
    "consumer_secret = os.getenv(\"API_SECRET_KEY\")\n",
    "access_token = os.getenv('ACCESS_TOKEN')\n",
    "access_token_secret = os.getenv('ACCESS_TOKEN_SECRET')"
   ]
  },
  {
   "cell_type": "code",
   "execution_count": 6,
   "metadata": {},
   "outputs": [],
   "source": [
    "#Authentication process\n",
    "auth = tweepy.OAuthHandler(consumer_key, consumer_secret)\n",
    "auth.set_access_token(access_token, access_token_secret)"
   ]
  },
  {
   "cell_type": "code",
   "execution_count": 7,
   "metadata": {},
   "outputs": [],
   "source": [
    "#Calling API. Setting notifications if reaching limit. Keep downloading when the window is available again.\n",
    "\n",
    "api = tweepy.API(auth, wait_on_rate_limit=True, wait_on_rate_limit_notify=True)"
   ]
  },
  {
   "cell_type": "code",
   "execution_count": 9,
   "metadata": {},
   "outputs": [
    {
     "name": "stdout",
     "output_type": "stream",
     "text": [
      "\"RT @miguelsms72: \\u00bfTe han metido en un Erte y el gobierno no te paga?\\n\\u00bfTe negaron un respirador durante el #COVID19?\\n\\u00bfSigues con el negocio\\u2026\"\n",
      "\"RT @pablocasado_: S\\u00e1nchez confirma que derogar\\u00e1 la reforma laboral que cre\\u00f3 3 millones de empleos, cuando vuelven las colas del hambre y la\\u2026\"\n",
      "\"RT @AntonioRNaranjo: Los que no hemos dejado de trabajar ni un d\\u00eda desde marzo, tenemos una pregunta. \\u00bfCu\\u00e1ntos empleados p\\u00fablicos est\\u00e1n en\\u2026\"\n",
      "\"RT @twiceconfess2: /tc/ wanseu yuk mutualan  erte\"\n",
      "\"@AnnGaskarth Deber\\u00eda hacerse extensible tambi\\u00e9n a los que han estado en ERTE y aut\\u00f3nomos.\"\n",
      "\"RT @antoniobanos_: Problemas para cobrar el ERTE no vas a tener, no. Facha torturador https://t.co/XobrKG9vy2\"\n",
      "\"y sin entrar en ERTE..\\ud83d\\udc4f\\ud83d\\udc4f\\ud83d\\udc4f\\ud83d\\udc4f\\ud83d\\udc4f https://t.co/f4RLJndzFa\"\n",
      "\"RT @AntonioRNaranjo: Los que no hemos dejado de trabajar ni un d\\u00eda desde marzo, tenemos una pregunta. \\u00bfCu\\u00e1ntos empleados p\\u00fablicos est\\u00e1n en\\u2026\"\n",
      "\"RT @antoniobanos_: Problemas para cobrar el ERTE no vas a tener, no. Facha torturador https://t.co/XobrKG9vy2\"\n",
      "\"RT @antoniobanos_: Problemas para cobrar el ERTE no vas a tener, no. Facha torturador https://t.co/XobrKG9vy2\"\n"
     ]
    }
   ],
   "source": [
    "#Looking for tweets\n",
    "for tweet in tweepy.Cursor(api.search, q='ERTE', tweet_mode='extended').items(10):\n",
    "    print(json.dumps(tweet._json['full_text'], indent=2))"
   ]
  },
  {
   "cell_type": "code",
   "execution_count": null,
   "metadata": {},
   "outputs": [],
   "source": []
  }
 ],
 "metadata": {
  "kernelspec": {
   "display_name": "Python3.8",
   "language": "python",
   "name": "python3.8"
  },
  "language_info": {
   "codemirror_mode": {
    "name": "ipython",
    "version": 3
   },
   "file_extension": ".py",
   "mimetype": "text/x-python",
   "name": "python",
   "nbconvert_exporter": "python",
   "pygments_lexer": "ipython3",
   "version": "3.8.0"
  }
 },
 "nbformat": 4,
 "nbformat_minor": 4
}
